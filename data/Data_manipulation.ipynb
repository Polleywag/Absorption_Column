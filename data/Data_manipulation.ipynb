{
 "cells": [
  {
   "cell_type": "code",
   "execution_count": 29,
   "id": "654ce3e7-65b3-48a2-b6bc-2dee0db6b99a",
   "metadata": {
    "pycharm": {
     "name": "#%%\n"
    }
   },
   "outputs": [],
   "source": [
    "from numpy import polyval\n",
    "import numpy as np\n",
    "import pandas as pd\n",
    "import numpy.linalg as sp"
   ]
  },
  {
   "cell_type": "code",
   "execution_count": null,
   "outputs": [],
   "source": [
    "def secondordfunc(MEAout_xt):\n",
    "    MEAout_xt2o = np.zeros((MEAout_xt.shape[0], 0), dtype=float)\n",
    "    for ii2 in np.arange(MEAout_xt.shape[1] - 1):\n",
    "        # idxtemp=np.arange(MEAout_xt.shape[1]-1)+ii2*(MEAout_xt.shape[1]-1)\n",
    "        MEAtempmat = MEAout_xt[:, 1:] * MEAout_xt[:, (ii2 + 1):(ii2 + 2)]\n",
    "        MEAout_xt2o = np.concatenate((MEAout_xt2o, MEAtempmat[:, 0:(ii2 + 1)]), axis=1)\n",
    "    return MEAout_xt2o\n",
    "\n",
    "\n",
    "def poly_surr(modout_xt, modout_ysim, beta_thresh=0.04):\n",
    "    # standardize between 0-1\n",
    "    xt_min = modout_xt.min(axis=0)\n",
    "    xt_ptp = modout_xt.ptp(axis=0)\n",
    "    modout_xt = (modout_xt - xt_min) / xt_ptp\n",
    "    modout_xt = np.concatenate((0.5 * np.ones((modout_xt.shape[0], 1), dtype=float), modout_xt), axis=1)\n",
    "    modout_ysim = modout_ysim / 100\n",
    "\n",
    "    # first order surrogate\n",
    "    b = np.dot(modout_xt.T, modout_xt)\n",
    "    np.savetxt('crap.txt', b)\n",
    "    \n",
    "    b = np.loadtxt('crap.txt')\n",
    "    \n",
    "    beta = np.dot(np.linalg.inv(b), np.dot(modout_xt.T, modout_ysim))\n",
    "    modout_pred = modout_xt @ beta\n",
    "\n",
    "    # second order surrogate\n",
    "    idx1 = np.squeeze(np.abs(beta) > beta_thresh)\n",
    "    modout_xtsm = modout_xt[:, np.squeeze(np.abs(beta) > 4e-2)]\n",
    "    modout_xt2o = secondordfunc(modout_xtsm)\n",
    "    modout_xt2 = np.concatenate((modout_xt, modout_xt2o), axis=1)\n",
    "    \n",
    "    c = np.dot(modout_xt2.T, modout_xt2)\n",
    "    \n",
    "    np.savetxt('crap2.txt', c)\n",
    "    \n",
    "    c = np.loadtxt('crap2.txt')\n",
    "    \n",
    "    beta2 = sp.inv(c) @ (modout_xt2.T @ modout_ysim)\n",
    "    return modout_xt2, beta2\n",
    "\n",
    "\n",
    "des1 = np.array(pd.read_csv('Run_Results.csv', index_col=0))\n",
    "\n",
    "modout_xt = des1[:, 0:5]\n",
    "modout_ysim = des1[:, -2]\n",
    "\n",
    "modout_xt2, beta2 = poly_surr(modout_xt, modout_ysim)\n",
    "\n",
    "pred2 = 100 * modout_xt2 @ beta2\n",
    "\n",
    "print(pred2)"
   ],
   "metadata": {
    "collapsed": false,
    "pycharm": {
     "name": "#%%\n"
    }
   }
  },
  {
   "cell_type": "code",
   "execution_count": null,
   "outputs": [],
   "source": [
    "from sklearn.linear_model import LinearRegression\n",
    "\n",
    "X = des1[:, 0:5]\n",
    "y = des1[:, -2]\n",
    "\n",
    "\n",
    "reg = LinearRegression()\n",
    "\n",
    "reg.fit(X, y)\n",
    "\n",
    "a, b, c, d, e = reg.coef_\n",
    "\n",
    "def surr(X):\n",
    "    return a*X[4] + b*X[3] + c*X[2] + d*X[1] + e*X[0]\n",
    "\n",
    "print(surr(X[0]))"
   ],
   "metadata": {
    "collapsed": false,
    "pycharm": {
     "name": "#%%\n"
    }
   }
  },
  {
   "cell_type": "code",
   "execution_count": 49,
   "id": "020ee224-2ade-4ced-988c-c25a14a46061",
   "metadata": {},
   "outputs": [
    {
     "name": "stdout",
     "output_type": "stream",
     "text": [
      "[93.99 88.0 89.55 90.43 94.83 80.49 62.07 83.64 77.5 93.51 93.67 94.73\n",
      " 84.7 86.82 95.17 94.39 92.37]\n",
      "12.70656378429257\n"
     ]
    }
   ],
   "source": [
    "from sklearn.linear_model import LinearRegression\n",
    "\n",
    "X = des1[:, 0:5]\n",
    "y = des1[:, -2]\n",
    "\n",
    "\n",
    "reg = LinearRegression()\n",
    "\n",
    "reg.fit(X, y)\n",
    "\n",
    "a, b, c, d, e = reg.coef_\n",
    "\n",
    "def surr(X):\n",
    "    return a*X[4] + b*X[3] + c*X[2] + d*X[1] + e*X[0]\n",
    "\n",
    "print(surr(X[0]))"
   ]
  }
 ],
 "metadata": {
  "kernelspec": {
   "display_name": "Python 3 (ipykernel)",
   "language": "python",
   "name": "python3"
  },
  "language_info": {
   "codemirror_mode": {
    "name": "ipython",
    "version": 3
   },
   "file_extension": ".py",
   "mimetype": "text/x-python",
   "name": "python",
   "nbconvert_exporter": "python",
   "pygments_lexer": "ipython3",
   "version": "3.8.16"
  }
 },
 "nbformat": 4,
 "nbformat_minor": 5
}