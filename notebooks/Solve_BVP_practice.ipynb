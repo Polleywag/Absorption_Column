{
 "cells": [
  {
   "cell_type": "code",
   "execution_count": 1,
   "id": "7adacd96-066f-4f68-ac01-e681ef7c06a1",
   "metadata": {
    "pycharm": {
     "name": "#%%\n"
    }
   },
   "outputs": [
    {
     "ename": "NameError",
     "evalue": "name 'CO2_Cap' is not defined",
     "output_type": "error",
     "traceback": [
      "\u001B[1;31m---------------------------------------------------------------------------\u001B[0m",
      "\u001B[1;31mNameError\u001B[0m                                 Traceback (most recent call last)",
      "\u001B[1;32m<ipython-input-1-99067219f902>\u001B[0m in \u001B[0;36m<module>\u001B[1;34m\u001B[0m\n\u001B[0;32m      1\u001B[0m \u001B[1;32mfrom\u001B[0m \u001B[0mnumpy\u001B[0m \u001B[1;32mimport\u001B[0m \u001B[0mpolyfit\u001B[0m\u001B[1;33m,\u001B[0m \u001B[0marange\u001B[0m\u001B[1;33m,\u001B[0m \u001B[0mpolyval\u001B[0m\u001B[1;33m\u001B[0m\u001B[1;33m\u001B[0m\u001B[0m\n\u001B[0;32m      2\u001B[0m \u001B[1;33m\u001B[0m\u001B[0m\n\u001B[1;32m----> 3\u001B[1;33m \u001B[0mn\u001B[0m \u001B[1;33m=\u001B[0m \u001B[1;33m(\u001B[0m\u001B[0mlen\u001B[0m\u001B[1;33m(\u001B[0m\u001B[0mCO2_Cap\u001B[0m\u001B[1;33m)\u001B[0m\u001B[1;33m)\u001B[0m\u001B[1;33m\u001B[0m\u001B[1;33m\u001B[0m\u001B[0m\n\u001B[0m\u001B[0;32m      4\u001B[0m \u001B[1;33m\u001B[0m\u001B[0m\n\u001B[0;32m      5\u001B[0m \u001B[0mdx\u001B[0m \u001B[1;33m=\u001B[0m \u001B[1;36m.001\u001B[0m\u001B[1;33m\u001B[0m\u001B[1;33m\u001B[0m\u001B[0m\n",
      "\u001B[1;31mNameError\u001B[0m: name 'CO2_Cap' is not defined"
     ]
    }
   ],
   "source": [
    "from numpy import polyfit, arange, polyval\n",
    "\n",
    "n = (len(CO2_Cap))\n",
    "\n",
    "dx = .001\n",
    "y_CO2_array = arange(.04, .10+dx, dx)\n",
    "\n",
    "\n",
    "p = [3.58186260e+07, -7.43273232e+06, 5.52655474e+05, -1.79252948e+04, 3.12753126e+02]\n",
    "p_linear = polyfit(y_CO2_array[20:n], CO2_Cap[20:], 1)\n",
    "print(p_linear)\n",
    "# p = polyfit(y_CO2_array[:n], CO2_Cap, 4)\n",
    "# print(p)\n",
    "p = [ 3.58186260e+07, -7.43273232e+06,  5.52655474e+05, -1.79252948e+04, 3.12753126e+02]\n",
    "p_linear = [-890.41996267,  138.72207665]\n",
    "\n",
    "CO2_cap_guess = []\n",
    "\n",
    "for y_CO2 in y_CO2_array[:n]:\n",
    "\n",
    "    if y_CO2 < .06:\n",
    "        CO2_cap_guess.append(polyval(p, y_CO2))\n",
    "    elif y_CO2 >= .06:\n",
    "        CO2_cap_guess.append(polyval(p_linear, y_CO2))\n",
    "\n",
    "plt.plot(y_CO2_array[:n], CO2_cap_guess, '--')\n",
    "plt.plot(y_CO2_array[:n], CO2_Cap, 'x')\n",
    "plt.show()\n",
    "\n",
    "print(y_CO2_array[n])\n"
   ]
  },
  {
   "cell_type": "code",
   "execution_count": null,
   "id": "aa13c6fe-7e48-46cd-b026-9af62a61e055",
   "metadata": {
    "pycharm": {
     "name": "#%%\n"
    }
   },
   "outputs": [],
   "source": [
    "from numpy import array\n",
    "from get_Data import get_Morgan_data\n",
    "\n",
    "data = array([185, 0.15, .07, 95, 0.3])\n",
    "\n",
    "vapor, liquid = get_Morgan_data(array_data=data, source='Thesis')\n",
    "\n",
    "print(vapor['C']['MEA'])"
   ]
  },
  {
   "cell_type": "code",
   "execution_count": null,
   "id": "abdb3e4c-6061-4509-b649-7103cddf7d55",
   "metadata": {
    "pycharm": {
     "name": "#%%\n"
    }
   },
   "outputs": [],
   "source": [
    "from numpy import arange\n",
    "\n",
    "y_CO2_start = .095\n",
    "y_CO2_end = .1\n",
    "dx = .005\n",
    "y_CO2_array = arange(y_CO2_start, .1, dx)\n",
    "print(y_CO2_array)"
   ]
  },
  {
   "cell_type": "code",
   "execution_count": null,
   "id": "720203dc-4a19-4315-8f91-79538fb3f8a0",
   "metadata": {
    "pycharm": {
     "name": "#%%\n"
    }
   },
   "outputs": [],
   "source": [
    "# if Z < .9:\n",
    "        #     # print(sol)\n",
    "        #     for s in sol:\n",
    "        #         # print(s)\n",
    "        #         if s  > 709:\n",
    "        #             print(f'error = {s}')\n",
    "        #\n",
    "        #     try:\n",
    "        #         ans = exp(sol)\n",
    "        #         # print(f'x = {x}')\n",
    "        #         # print(f'Bmix = {B_mix:.6f}, Amix = {A_mix:.6f}')\n",
    "        #         # print(f'Coeff: {m3}, {m2}, {m1}, {m0}')\n",
    "        #         # print(f'Z = {Z:.8f}')\n",
    "        #         # # print(Z - B_mix)\n",
    "        #         # # print(((Z + 2.414 * B_mix) / (Z - .414 * B_mix)))\n",
    "        #         # print(sol)\n",
    "        #         # print()\n",
    "        #\n",
    "        #     except:\n",
    "        #         # print(f'x = {x}')\n",
    "        #         # print(f'Bmix = {B_mix:.6f}, Amix = {A_mix:.6f}')\n",
    "        #         # print('Runtime Warning was Caught')\n",
    "        #         # print(f'Coeff: {m3}, {m2}, {m1}, {m0}')\n",
    "        #         # print(f'Z = {Z:.8f}')\n",
    "        #         # # print(Z - B_mix)\n",
    "        #         # # print(((Z + 2.414 * B_mix) / (Z - .414 * B_mix)))\n",
    "        #         # print(sol)\n",
    "        #\n",
    "        #         ans = [0, 0, 0, 0, 0]\n",
    "        # else:"
   ]
  },
  {
   "cell_type": "code",
   "execution_count": null,
   "id": "fc0f6882-6375-458d-909e-af984d9204b7",
   "metadata": {
    "pycharm": {
     "name": "#%%\n"
    }
   },
   "outputs": [],
   "source": [
    "import numpy as np\n",
    "from scipy.optimize import minimize\n",
    "\n",
    "# Define the function to be solved\n",
    "def fun(x):\n",
    "    eq1 = x[0]**2 - 4\n",
    "    eq2 = x[1]**2 - 9\n",
    "    return np.sum(np.array([eq1**2, eq2**2]))\n",
    "\n",
    "# Initial guess\n",
    "x0 = np.array([1, 1])\n",
    "\n",
    "# Define the lower and upper bounds for each variable\n",
    "bounds = [(None, None), (-3, 3)]  # bounds for x1 and x2\n",
    "\n",
    "# Define the constraints\n",
    "cons = {'type': 'eq', 'fun': fun}\n",
    "\n",
    "# Call the minimize function with trust-constr method\n",
    "result = minimize(fun, x0, method='trust-constr', constraints=cons, bounds=bounds)\n",
    "\n",
    "# Access the solution\n",
    "sol = result.x\n",
    "print(\"Solution: \", sol)"
   ]
  },
  {
   "cell_type": "code",
   "execution_count": null,
   "id": "2f206895-9029-4eb5-8c4b-fd250397b798",
   "metadata": {
    "pycharm": {
     "name": "#%%\n"
    }
   },
   "outputs": [],
   "source": [
    "import numpy as np\n",
    "from scipy.optimize import root\n",
    "\n",
    "# Define the function to be solved\n",
    "def fun(x):\n",
    "    eq1 = x[0]**2 - 4\n",
    "    eq2 = x[1]**2 - 9\n",
    "    return np.array([eq1, eq2])\n",
    "\n",
    "# Initial guess\n",
    "x0 = np.array([1, 1])\n",
    "\n",
    "# Define the lower and upper bounds for each variable\n",
    "bounds = [(None, None), (-3, 3)]  # bounds for x1 and x2\n",
    "\n",
    "# Define the constraints\n",
    "\n",
    "\n",
    "# Call the minimize function with trust-constr method\n",
    "result = root(fun, x0)\n",
    "\n",
    "# Access the solution\n",
    "sol = result.x\n",
    "print(\"Solution: \", sol)"
   ]
  },
  {
   "cell_type": "code",
   "execution_count": null,
   "id": "f4517631-e2cd-4794-8673-6bf26a7ab266",
   "metadata": {
    "pycharm": {
     "name": "#%%\n"
    }
   },
   "outputs": [],
   "source": [
    "import numpy as np\n",
    "from scipy.optimize import minimize\n",
    "\n",
    "# Define the function to be solved\n",
    "def fun(x):\n",
    "    eq1 = x[0]**2 - 4\n",
    "    eq2 = x[1]**2 - 9\n",
    "    return np.array([eq1, eq2])\n",
    "\n",
    "# Define the residual function for the optimization\n",
    "def residual(x):\n",
    "    return np.linalg.norm(fun(x))\n",
    "\n",
    "# Initial guess\n",
    "x0 = np.array([1, 1])\n",
    "\n",
    "# Define the bounds for each variable\n",
    "bounds = [(None, None), (-3, 3)]  # bounds for x1 and x2\n",
    "\n",
    "# Call the minimize function with SLSQP method\n",
    "result = minimize(residual, x0, method='SLSQP', bounds=bounds)\n",
    "\n",
    "# Access the solution\n",
    "sol = result.x\n",
    "print(\"Solution: \", sol)"
   ]
  },
  {
   "cell_type": "code",
   "execution_count": null,
   "id": "32a31f7a-94fc-45f9-8909-b7738fe0c171",
   "metadata": {
    "pycharm": {
     "name": "#%%\n"
    }
   },
   "outputs": [],
   "source": [
    "import numpy as np\n",
    "from scipy.integrate import solve_bvp\n",
    "import matplotlib.pyplot as plt\n",
    "\n",
    "# Define the ODE system\n",
    "def fun(t, y):\n",
    "    return np.array([y[1], -y[0]])\n",
    "\n",
    "# Define the boundary conditions\n",
    "def bc(ya, yb):\n",
    "    return np.array([ya[0] - 1, yb[0] - 2])\n",
    "\n",
    "# Define the mesh grid\n",
    "t = np.linspace(0, 1, 100)\n",
    "\n",
    "# Define the initial guess for the solution\n",
    "y_guess = np.zeros((2, t.size))\n",
    "print(y_guess)\n",
    "\n",
    "# Call solve_bvp for solving the BVP\n",
    "sol = solve_bvp(fun, bc, t, y_guess)\n",
    "\n",
    "# Extract the solution\n",
    "y = sol.sol(t)\n",
    "\n",
    "# Plot the solution\n",
    "plt.plot(t, y[0], label='y1')\n",
    "plt.plot(t, y[1], label='y2')\n",
    "plt.xlabel('t')\n",
    "plt.ylabel('y')\n",
    "plt.legend()\n",
    "plt.title('Solution of BVP using solve_bvp')\n",
    "plt.show()"
   ]
  },
  {
   "cell_type": "code",
   "execution_count": 13,
   "id": "28f3544b-f8d7-4cb5-93c2-3b31b2881f05",
   "metadata": {
    "pycharm": {
     "name": "#%%\n"
    }
   },
   "outputs": [
    {
     "data": {
      "text/html": [
       "<div>\n",
       "<style scoped>\n",
       "    .dataframe tbody tr th:only-of-type {\n",
       "        vertical-align: middle;\n",
       "    }\n",
       "\n",
       "    .dataframe tbody tr th {\n",
       "        vertical-align: top;\n",
       "    }\n",
       "\n",
       "    .dataframe thead th {\n",
       "        text-align: right;\n",
       "    }\n",
       "</style>\n",
       "<table border=\"1\" class=\"dataframe\">\n",
       "  <thead>\n",
       "    <tr style=\"text-align: right;\">\n",
       "      <th></th>\n",
       "      <th>w</th>\n",
       "      <th>m</th>\n",
       "      <th>MW</th>\n",
       "      <th>n</th>\n",
       "      <th>u</th>\n",
       "      <th>C</th>\n",
       "      <th>y</th>\n",
       "    </tr>\n",
       "  </thead>\n",
       "  <tbody>\n",
       "    <tr>\n",
       "      <th>CO2</th>\n",
       "      <td>0.077824</td>\n",
       "      <td>6.615012</td>\n",
       "      <td>0.044010</td>\n",
       "      <td>150.308728</td>\n",
       "      <td>224.837915</td>\n",
       "      <td>2.113412</td>\n",
       "      <td>0.050000</td>\n",
       "    </tr>\n",
       "    <tr>\n",
       "      <th>MEA</th>\n",
       "      <td>0.000000</td>\n",
       "      <td>0.000000</td>\n",
       "      <td>0.061083</td>\n",
       "      <td>0.000000</td>\n",
       "      <td>224.837915</td>\n",
       "      <td>0.000000</td>\n",
       "      <td>0.000000</td>\n",
       "    </tr>\n",
       "    <tr>\n",
       "      <th>H2O</th>\n",
       "      <td>0.051559</td>\n",
       "      <td>4.382534</td>\n",
       "      <td>0.018015</td>\n",
       "      <td>243.267316</td>\n",
       "      <td>224.837915</td>\n",
       "      <td>3.420454</td>\n",
       "      <td>0.080923</td>\n",
       "    </tr>\n",
       "    <tr>\n",
       "      <th>N2</th>\n",
       "      <td>0.793685</td>\n",
       "      <td>67.463263</td>\n",
       "      <td>0.028014</td>\n",
       "      <td>2408.241117</td>\n",
       "      <td>224.837915</td>\n",
       "      <td>33.861012</td>\n",
       "      <td>0.801098</td>\n",
       "    </tr>\n",
       "    <tr>\n",
       "      <th>O2</th>\n",
       "      <td>0.076932</td>\n",
       "      <td>6.539192</td>\n",
       "      <td>0.031999</td>\n",
       "      <td>204.357407</td>\n",
       "      <td>224.837915</td>\n",
       "      <td>2.873362</td>\n",
       "      <td>0.067979</td>\n",
       "    </tr>\n",
       "    <tr>\n",
       "      <th>T</th>\n",
       "      <td>1.000000</td>\n",
       "      <td>85.000000</td>\n",
       "      <td>0.000000</td>\n",
       "      <td>3006.174569</td>\n",
       "      <td>224.837915</td>\n",
       "      <td>42.268240</td>\n",
       "      <td>1.000000</td>\n",
       "    </tr>\n",
       "  </tbody>\n",
       "</table>\n",
       "</div>"
      ],
      "text/plain": [
       "            w          m        MW            n           u          C  \\\n",
       "CO2  0.077824   6.615012  0.044010   150.308728  224.837915   2.113412   \n",
       "MEA  0.000000   0.000000  0.061083     0.000000  224.837915   0.000000   \n",
       "H2O  0.051559   4.382534  0.018015   243.267316  224.837915   3.420454   \n",
       "N2   0.793685  67.463263  0.028014  2408.241117  224.837915  33.861012   \n",
       "O2   0.076932   6.539192  0.031999   204.357407  224.837915   2.873362   \n",
       "T    1.000000  85.000000  0.000000  3006.174569  224.837915  42.268240   \n",
       "\n",
       "            y  \n",
       "CO2  0.050000  \n",
       "MEA  0.000000  \n",
       "H2O  0.080923  \n",
       "N2   0.801098  \n",
       "O2   0.067979  \n",
       "T    1.000000  "
      ]
     },
     "metadata": {},
     "output_type": "display_data"
    },
    {
     "data": {
      "text/html": [
       "<div>\n",
       "<style scoped>\n",
       "    .dataframe tbody tr th:only-of-type {\n",
       "        vertical-align: middle;\n",
       "    }\n",
       "\n",
       "    .dataframe tbody tr th {\n",
       "        vertical-align: top;\n",
       "    }\n",
       "\n",
       "    .dataframe thead th {\n",
       "        text-align: right;\n",
       "    }\n",
       "</style>\n",
       "<table border=\"1\" class=\"dataframe\">\n",
       "  <thead>\n",
       "    <tr style=\"text-align: right;\">\n",
       "      <th></th>\n",
       "      <th>w</th>\n",
       "      <th>m</th>\n",
       "      <th>MW</th>\n",
       "      <th>n</th>\n",
       "      <th>u</th>\n",
       "      <th>C</th>\n",
       "      <th>x</th>\n",
       "    </tr>\n",
       "  </thead>\n",
       "  <tbody>\n",
       "    <tr>\n",
       "      <th>CO2</th>\n",
       "      <td>0.032422</td>\n",
       "      <td>5.998043</td>\n",
       "      <td>0.044010</td>\n",
       "      <td>136.289743</td>\n",
       "      <td>0.584846</td>\n",
       "      <td>736.701313</td>\n",
       "      <td>0.017251</td>\n",
       "    </tr>\n",
       "    <tr>\n",
       "      <th>MEA</th>\n",
       "      <td>0.300000</td>\n",
       "      <td>55.500000</td>\n",
       "      <td>0.061083</td>\n",
       "      <td>908.598287</td>\n",
       "      <td>0.584846</td>\n",
       "      <td>4911.342090</td>\n",
       "      <td>0.115008</td>\n",
       "    </tr>\n",
       "    <tr>\n",
       "      <th>H2O</th>\n",
       "      <td>0.667578</td>\n",
       "      <td>123.501957</td>\n",
       "      <td>0.018015</td>\n",
       "      <td>6855.392725</td>\n",
       "      <td>0.584846</td>\n",
       "      <td>37056.176891</td>\n",
       "      <td>0.867740</td>\n",
       "    </tr>\n",
       "    <tr>\n",
       "      <th>N2</th>\n",
       "      <td>0.000000</td>\n",
       "      <td>0.000000</td>\n",
       "      <td>0.028014</td>\n",
       "      <td>0.000000</td>\n",
       "      <td>0.584846</td>\n",
       "      <td>0.000000</td>\n",
       "      <td>0.000000</td>\n",
       "    </tr>\n",
       "    <tr>\n",
       "      <th>O2</th>\n",
       "      <td>0.000000</td>\n",
       "      <td>0.000000</td>\n",
       "      <td>0.031999</td>\n",
       "      <td>0.000000</td>\n",
       "      <td>0.584846</td>\n",
       "      <td>0.000000</td>\n",
       "      <td>0.000000</td>\n",
       "    </tr>\n",
       "    <tr>\n",
       "      <th>T</th>\n",
       "      <td>1.000000</td>\n",
       "      <td>185.000000</td>\n",
       "      <td>0.000000</td>\n",
       "      <td>7900.280754</td>\n",
       "      <td>0.584846</td>\n",
       "      <td>42704.220294</td>\n",
       "      <td>1.000000</td>\n",
       "    </tr>\n",
       "  </tbody>\n",
       "</table>\n",
       "</div>"
      ],
      "text/plain": [
       "            w           m        MW            n         u             C  \\\n",
       "CO2  0.032422    5.998043  0.044010   136.289743  0.584846    736.701313   \n",
       "MEA  0.300000   55.500000  0.061083   908.598287  0.584846   4911.342090   \n",
       "H2O  0.667578  123.501957  0.018015  6855.392725  0.584846  37056.176891   \n",
       "N2   0.000000    0.000000  0.028014     0.000000  0.584846      0.000000   \n",
       "O2   0.000000    0.000000  0.031999     0.000000  0.584846      0.000000   \n",
       "T    1.000000  185.000000  0.000000  7900.280754  0.584846  42704.220294   \n",
       "\n",
       "            x  \n",
       "CO2  0.017251  \n",
       "MEA  0.115008  \n",
       "H2O  0.867740  \n",
       "N2   0.000000  \n",
       "O2   0.000000  \n",
       "T    1.000000  "
      ]
     },
     "metadata": {},
     "output_type": "display_data"
    }
   ],
   "source": [
    "from numpy import array\n",
    "from get_Data import get_Morgan_data\n",
    "\n",
    "m_T_l = 185               # Liquid Mass Flow Rate (kg/s)\n",
    "alpha = 0.15            # Lean Solvent CO2 Loading (mol CO2/mol MEA)\n",
    "y_CO2 = .05  # Vapor Mole Fraction of CO2\n",
    "m_T_v = 85               # Vapor Mass Flow Rate (kg/s)plo\n",
    "w_MEA = 0.3              # MEA weight fraction in Lean Solvent\n",
    "\n",
    "data = array([m_T_l, alpha, y_CO2, m_T_v, w_MEA])\n",
    "\n",
    "vapor, liquid = get_Morgan_data(array_data=data, source='Thesis')\n",
    "\n",
    "display(vapor)\n",
    "display(liquid)"
   ]
  },
  {
   "cell_type": "code",
   "execution_count": 9,
   "id": "c2286ecb-ad74-4444-a8b9-1567568731aa",
   "metadata": {
    "pycharm": {
     "name": "#%%\n"
    }
   },
   "outputs": [
    {
     "data": {
      "text/plain": [
       "[<matplotlib.lines.Line2D at 0x255c74079a0>]"
      ]
     },
     "execution_count": 9,
     "metadata": {},
     "output_type": "execute_result"
    },
    {
     "data": {
      "image/png": "[encoded data removed]",
      "text/plain": [
       "<Figure size 432x288 with 1 Axes>"
      ]
     },
     "metadata": {
      "needs_background": "light"
     },
     "output_type": "display_data"
    },
    {
     "data": {
      "image/png": "[encoded data removed]",
      "text/plain": [
       "<Figure size 432x288 with 1 Axes>"
      ]
     },
     "metadata": {
      "needs_background": "light"
     },
     "output_type": "display_data"
    }
   ],
   "source": [
    "import pandas as pd\n",
    "import matplotlib.pyplot as plt\n",
    "from Parameters import z\n",
    "\n",
    "df = pd.read_csv('data/Concentrations.csv')\n",
    "Cv_CO2 = df['Cv_CO2']\n",
    "\n",
    "plt.figure()\n",
    "plt.plot(z, Cv_CO2)\n",
    "\n",
    "\n",
    "df = pd.read_csv('data/Vapor_Comp.csv')\n",
    "y_CO2 = df['Cv_CO2']\n",
    "\n",
    "plt.figure()\n",
    "plt.plot(z, y_CO2)"
   ]
  },
  {
   "cell_type": "code",
   "execution_count": 12,
   "id": "7acb9dc1-b89d-4766-893d-0073d6481ec7",
   "metadata": {
    "pycharm": {
     "name": "#%%\n"
    }
   },
   "outputs": [
    {
     "name": "stdout",
     "output_type": "stream",
     "text": [
      "0.96\n",
      "0.929\n",
      "0.853\n",
      "0.764\n",
      "0.682\n",
      "0.617\n"
     ]
    }
   ],
   "source": [
    "from Surrogate import f_CO2_guess\n",
    "\n",
    "y_CO2_start = .04\n",
    "y_CO2_end = .09\n",
    "dx = .01\n",
    "y_CO2_array = arange(y_CO2_start, y_CO2_end+dx, dx)\n",
    "\n",
    "for y_CO2 in y_CO2_array:\n",
    "    print(f_CO2_guess(y_CO2))"
   ]
  }
 ],
 "metadata": {
  "kernelspec": {
   "display_name": "Python 3",
   "language": "python",
   "name": "python3"
  },
  "language_info": {
   "codemirror_mode": {
    "name": "ipython",
    "version": 3
   },
   "file_extension": ".py",
   "mimetype": "text/x-python",
   "name": "python",
   "nbconvert_exporter": "python",
   "pygments_lexer": "ipython3",
   "version": "3.8.8"
  }
 },
 "nbformat": 4,
 "nbformat_minor": 5
}