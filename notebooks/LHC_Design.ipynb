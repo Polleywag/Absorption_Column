{
 "cells": [
  {
   "cell_type": "code",
   "execution_count": 1,
   "outputs": [],
   "source": [
    "from scipy.stats import qmc\n",
    "import numpy as np\n",
    "\n",
    "avg = np.array([1.88, .595, .167, .297, .099])\n",
    "std = np.array([.9, .2, .1, .02, .015])\n",
    "\n",
    "l_bounds = avg - std\n",
    "u_bounds = avg + std\n",
    "\n",
    "sampler = qmc.LatinHypercube(d=5)\n",
    "\n",
    "sample = sampler.random(n=150)\n",
    "sample = qmc.scale(sample, l_bounds, u_bounds)\n",
    "\n",
    "np.savetxt('LHC_Design.txt', sample)"
   ],
   "metadata": {
    "collapsed": false,
    "pycharm": {
     "name": "#%%\n"
    }
   }
  },
  {
   "cell_type": "code",
   "execution_count": null,
   "outputs": [],
   "source": [],
   "metadata": {
    "collapsed": false,
    "pycharm": {
     "name": "#%%\n"
    }
   }
  }
 ],
 "metadata": {
  "kernelspec": {
   "display_name": "Python 3",
   "language": "python",
   "name": "python3"
  },
  "language_info": {
   "codemirror_mode": {
    "name": "ipython",
    "version": 3
   },
   "file_extension": ".py",
   "mimetype": "text/x-python",
   "name": "python",
   "nbconvert_exporter": "python",
   "pygments_lexer": "ipython3",
   "version": "3.8.8"
  }
 },
 "nbformat": 4,
 "nbformat_minor": 5
}