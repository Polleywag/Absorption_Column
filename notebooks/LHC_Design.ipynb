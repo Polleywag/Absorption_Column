{
 "cells": [
  {
   "cell_type": "code",
   "execution_count": 6,
   "outputs": [
    {
     "name": "stdout",
     "output_type": "stream",
     "text": [
      "[3.11e+02 3.17e+02 5.70e-01 5.50e-02 2.30e-01 2.80e-01 1.00e-02 1.00e-01] [3.17e+02 3.23e+02 7.70e-01 1.55e-01 3.30e-01 3.20e-01 1.60e-02 1.40e-01]\n"
     ]
    }
   ],
   "source": [
    "from scipy.stats import qmc\n",
    "import numpy as np\n",
    "\n",
    "avg = np.array([314, 320, .67, .105, .28, .300, .013, .12])\n",
    "std = np.array([  3,   3, .1,  .05,  .05, .02,  .003, .02])\n",
    "\n",
    "l_bounds = avg - std\n",
    "u_bounds = avg + std\n",
    "\n",
    "sampler = qmc.LatinHypercube(d=8)\n",
    "\n",
    "sample = sampler.random(n=50)\n",
    "sample = qmc.scale(sample, l_bounds, u_bounds)\n",
    "\n",
    "# np.savetxt('LHC_Design.csv', sample, delimiter=',')"
   ],
   "metadata": {
    "collapsed": false
   }
  },
  {
   "cell_type": "code",
   "execution_count": null,
   "outputs": [],
   "source": [],
   "metadata": {
    "collapsed": false
   }
  }
 ],
 "metadata": {
  "kernelspec": {
   "display_name": "Python 3",
   "language": "python",
   "name": "python3"
  },
  "language_info": {
   "codemirror_mode": {
    "name": "ipython",
    "version": 3
   },
   "file_extension": ".py",
   "mimetype": "text/x-python",
   "name": "python",
   "nbconvert_exporter": "python",
   "pygments_lexer": "ipython3",
   "version": "3.8.8"
  }
 },
 "nbformat": 4,
 "nbformat_minor": 5
}
