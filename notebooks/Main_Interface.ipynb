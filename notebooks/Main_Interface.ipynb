{
 "cells": [
  {
   "cell_type": "code",
   "execution_count": 1,
   "outputs": [
    {
     "ename": "KeyboardInterrupt",
     "evalue": "",
     "output_type": "error",
     "traceback": [
      "\u001B[1;31m---------------------------------------------------------------------------\u001B[0m",
      "\u001B[1;31mKeyboardInterrupt\u001B[0m                         Traceback (most recent call last)",
      "Cell \u001B[1;32mIn[1], line 4\u001B[0m\n\u001B[0;32m      2\u001B[0m \u001B[38;5;28;01mimport\u001B[39;00m \u001B[38;5;21;01mnumpy\u001B[39;00m \u001B[38;5;28;01mas\u001B[39;00m \u001B[38;5;21;01mnp\u001B[39;00m\n\u001B[0;32m      3\u001B[0m \u001B[38;5;28;01mimport\u001B[39;00m \u001B[38;5;21;01mpandas\u001B[39;00m \u001B[38;5;28;01mas\u001B[39;00m \u001B[38;5;21;01mpd\u001B[39;00m\n\u001B[1;32m----> 4\u001B[0m \u001B[38;5;28;01mfrom\u001B[39;00m \u001B[38;5;21;01mSALib\u001B[39;00m\u001B[38;5;21;01m.\u001B[39;00m\u001B[38;5;21;01msample\u001B[39;00m \u001B[38;5;28;01mimport\u001B[39;00m sobol\n\u001B[0;32m      5\u001B[0m \u001B[38;5;28;01mfrom\u001B[39;00m \u001B[38;5;21;01mSALib\u001B[39;00m\u001B[38;5;21;01m.\u001B[39;00m\u001B[38;5;21;01manalyze\u001B[39;00m \u001B[38;5;28;01mimport\u001B[39;00m sobol \u001B[38;5;28;01mas\u001B[39;00m sb_analyze\n\u001B[0;32m      6\u001B[0m df \u001B[38;5;241m=\u001B[39m pd\u001B[38;5;241m.\u001B[39mread_csv(\u001B[38;5;124m'\u001B[39m\u001B[38;5;124mBook1.csv\u001B[39m\u001B[38;5;124m'\u001B[39m)\n",
      "File \u001B[1;32m~\\AppData\\Roaming\\Python\\Python38\\site-packages\\SALib\\sample\\sobol.py:5\u001B[0m\n\u001B[0;32m      2\u001B[0m \u001B[38;5;28;01mfrom\u001B[39;00m \u001B[38;5;21;01mtyping\u001B[39;00m \u001B[38;5;28;01mimport\u001B[39;00m Dict, Optional, Union\n\u001B[0;32m      4\u001B[0m \u001B[38;5;28;01mimport\u001B[39;00m \u001B[38;5;21;01mnumpy\u001B[39;00m \u001B[38;5;28;01mas\u001B[39;00m \u001B[38;5;21;01mnp\u001B[39;00m\n\u001B[1;32m----> 5\u001B[0m \u001B[38;5;28;01mfrom\u001B[39;00m \u001B[38;5;21;01mscipy\u001B[39;00m\u001B[38;5;21;01m.\u001B[39;00m\u001B[38;5;21;01mstats\u001B[39;00m \u001B[38;5;28;01mimport\u001B[39;00m qmc\n\u001B[0;32m      7\u001B[0m \u001B[38;5;28;01mfrom\u001B[39;00m \u001B[38;5;21;01m.\u001B[39;00m \u001B[38;5;28;01mimport\u001B[39;00m common_args\n\u001B[0;32m      8\u001B[0m \u001B[38;5;28;01mfrom\u001B[39;00m \u001B[38;5;21;01m.\u001B[39;00m\u001B[38;5;21;01m.\u001B[39;00m\u001B[38;5;21;01mutil\u001B[39;00m \u001B[38;5;28;01mimport\u001B[39;00m scale_samples, read_param_file, compute_groups_matrix, _check_groups\n",
      "File \u001B[1;32m~\\AppData\\Roaming\\Python\\Python38\\site-packages\\scipy\\stats\\__init__.py:441\u001B[0m\n\u001B[0;32m      1\u001B[0m \u001B[38;5;124;03m\"\"\"\u001B[39;00m\n\u001B[0;32m      2\u001B[0m \u001B[38;5;124;03m.. _statsrefmanual:\u001B[39;00m\n\u001B[0;32m      3\u001B[0m \n\u001B[1;32m   (...)\u001B[0m\n\u001B[0;32m    438\u001B[0m \n\u001B[0;32m    439\u001B[0m \u001B[38;5;124;03m\"\"\"\u001B[39;00m\n\u001B[1;32m--> 441\u001B[0m \u001B[38;5;28;01mfrom\u001B[39;00m \u001B[38;5;21;01m.\u001B[39;00m\u001B[38;5;21;01mstats\u001B[39;00m \u001B[38;5;28;01mimport\u001B[39;00m \u001B[38;5;241m*\u001B[39m\n\u001B[0;32m    442\u001B[0m \u001B[38;5;28;01mfrom\u001B[39;00m \u001B[38;5;21;01m.\u001B[39;00m\u001B[38;5;21;01mdistributions\u001B[39;00m \u001B[38;5;28;01mimport\u001B[39;00m \u001B[38;5;241m*\u001B[39m\n\u001B[0;32m    443\u001B[0m \u001B[38;5;28;01mfrom\u001B[39;00m \u001B[38;5;21;01m.\u001B[39;00m\u001B[38;5;21;01mmorestats\u001B[39;00m \u001B[38;5;28;01mimport\u001B[39;00m \u001B[38;5;241m*\u001B[39m\n",
      "File \u001B[1;32m~\\AppData\\Roaming\\Python\\Python38\\site-packages\\scipy\\stats\\stats.py:43\u001B[0m\n\u001B[0;32m     41\u001B[0m \u001B[38;5;28;01mimport\u001B[39;00m \u001B[38;5;21;01mscipy\u001B[39;00m\u001B[38;5;21;01m.\u001B[39;00m\u001B[38;5;21;01mspecial\u001B[39;00m \u001B[38;5;28;01mas\u001B[39;00m \u001B[38;5;21;01mspecial\u001B[39;00m\n\u001B[0;32m     42\u001B[0m \u001B[38;5;28;01mfrom\u001B[39;00m \u001B[38;5;21;01mscipy\u001B[39;00m \u001B[38;5;28;01mimport\u001B[39;00m linalg\n\u001B[1;32m---> 43\u001B[0m \u001B[38;5;28;01mfrom\u001B[39;00m \u001B[38;5;21;01m.\u001B[39;00m \u001B[38;5;28;01mimport\u001B[39;00m distributions\n\u001B[0;32m     44\u001B[0m \u001B[38;5;28;01mfrom\u001B[39;00m \u001B[38;5;21;01m.\u001B[39;00m \u001B[38;5;28;01mimport\u001B[39;00m mstats_basic\n\u001B[0;32m     45\u001B[0m \u001B[38;5;28;01mfrom\u001B[39;00m \u001B[38;5;21;01m.\u001B[39;00m\u001B[38;5;21;01m_stats_mstats_common\u001B[39;00m \u001B[38;5;28;01mimport\u001B[39;00m (_find_repeats, linregress, theilslopes,\n\u001B[0;32m     46\u001B[0m                                    siegelslopes)\n",
      "File \u001B[1;32m~\\AppData\\Roaming\\Python\\Python38\\site-packages\\scipy\\stats\\distributions.py:10\u001B[0m\n\u001B[0;32m      1\u001B[0m \u001B[38;5;66;03m#\u001B[39;00m\n\u001B[0;32m      2\u001B[0m \u001B[38;5;66;03m# Author:  Travis Oliphant  2002-2011 with contributions from\u001B[39;00m\n\u001B[0;32m      3\u001B[0m \u001B[38;5;66;03m#          SciPy Developers 2004-2011\u001B[39;00m\n\u001B[1;32m   (...)\u001B[0m\n\u001B[0;32m      6\u001B[0m \u001B[38;5;66;03m#       instead of `git blame -Lxxx,+x`.\u001B[39;00m\n\u001B[0;32m      7\u001B[0m \u001B[38;5;66;03m#\u001B[39;00m\n\u001B[0;32m      8\u001B[0m \u001B[38;5;28;01mfrom\u001B[39;00m \u001B[38;5;21;01m.\u001B[39;00m\u001B[38;5;21;01m_distn_infrastructure\u001B[39;00m \u001B[38;5;28;01mimport\u001B[39;00m (rv_discrete, rv_continuous, rv_frozen)\n\u001B[1;32m---> 10\u001B[0m \u001B[38;5;28;01mfrom\u001B[39;00m \u001B[38;5;21;01m.\u001B[39;00m \u001B[38;5;28;01mimport\u001B[39;00m _continuous_distns\n\u001B[0;32m     11\u001B[0m \u001B[38;5;28;01mfrom\u001B[39;00m \u001B[38;5;21;01m.\u001B[39;00m \u001B[38;5;28;01mimport\u001B[39;00m _discrete_distns\n\u001B[0;32m     13\u001B[0m \u001B[38;5;28;01mfrom\u001B[39;00m \u001B[38;5;21;01m.\u001B[39;00m\u001B[38;5;21;01m_continuous_distns\u001B[39;00m \u001B[38;5;28;01mimport\u001B[39;00m \u001B[38;5;241m*\u001B[39m\n",
      "File \u001B[1;32m~\\AppData\\Roaming\\Python\\Python38\\site-packages\\scipy\\stats\\_continuous_distns.py:9521\u001B[0m\n\u001B[0;32m   9517\u001B[0m         ufunc \u001B[38;5;241m=\u001B[39m np\u001B[38;5;241m.\u001B[39mfrompyfunc(_single_cdf, \u001B[38;5;241m3\u001B[39m, \u001B[38;5;241m1\u001B[39m)\n\u001B[0;32m   9518\u001B[0m         \u001B[38;5;28;01mreturn\u001B[39;00m np\u001B[38;5;241m.\u001B[39mfloat64(ufunc(x, k, df))\n\u001B[1;32m-> 9521\u001B[0m studentized_range \u001B[38;5;241m=\u001B[39m \u001B[43mstudentized_range_gen\u001B[49m\u001B[43m(\u001B[49m\u001B[43mname\u001B[49m\u001B[38;5;241;43m=\u001B[39;49m\u001B[38;5;124;43m'\u001B[39;49m\u001B[38;5;124;43mstudentized_range\u001B[39;49m\u001B[38;5;124;43m'\u001B[39;49m\u001B[43m,\u001B[49m\u001B[43m \u001B[49m\u001B[43ma\u001B[49m\u001B[38;5;241;43m=\u001B[39;49m\u001B[38;5;241;43m0\u001B[39;49m\u001B[43m,\u001B[49m\n\u001B[0;32m   9522\u001B[0m \u001B[43m                                          \u001B[49m\u001B[43mb\u001B[49m\u001B[38;5;241;43m=\u001B[39;49m\u001B[43mnp\u001B[49m\u001B[38;5;241;43m.\u001B[39;49m\u001B[43minf\u001B[49m\u001B[43m)\u001B[49m\n\u001B[0;32m   9525\u001B[0m \u001B[38;5;66;03m# Collect names of classes and objects in this module.\u001B[39;00m\n\u001B[0;32m   9526\u001B[0m pairs \u001B[38;5;241m=\u001B[39m \u001B[38;5;28mlist\u001B[39m(\u001B[38;5;28mglobals\u001B[39m()\u001B[38;5;241m.\u001B[39mcopy()\u001B[38;5;241m.\u001B[39mitems())\n",
      "File \u001B[1;32m~\\AppData\\Roaming\\Python\\Python38\\site-packages\\scipy\\stats\\_distn_infrastructure.py:1721\u001B[0m, in \u001B[0;36mrv_continuous.__init__\u001B[1;34m(self, momtype, a, b, xtol, badvalue, name, longname, shapes, extradoc, seed)\u001B[0m\n\u001B[0;32m   1716\u001B[0m \u001B[38;5;28mself\u001B[39m\u001B[38;5;241m.\u001B[39mextradoc \u001B[38;5;241m=\u001B[39m extradoc\n\u001B[0;32m   1718\u001B[0m \u001B[38;5;28mself\u001B[39m\u001B[38;5;241m.\u001B[39m_construct_argparser(meths_to_inspect\u001B[38;5;241m=\u001B[39m[\u001B[38;5;28mself\u001B[39m\u001B[38;5;241m.\u001B[39m_pdf, \u001B[38;5;28mself\u001B[39m\u001B[38;5;241m.\u001B[39m_cdf],\n\u001B[0;32m   1719\u001B[0m                           locscale_in\u001B[38;5;241m=\u001B[39m\u001B[38;5;124m'\u001B[39m\u001B[38;5;124mloc=0, scale=1\u001B[39m\u001B[38;5;124m'\u001B[39m,\n\u001B[0;32m   1720\u001B[0m                           locscale_out\u001B[38;5;241m=\u001B[39m\u001B[38;5;124m'\u001B[39m\u001B[38;5;124mloc, scale\u001B[39m\u001B[38;5;124m'\u001B[39m)\n\u001B[1;32m-> 1721\u001B[0m \u001B[38;5;28;43mself\u001B[39;49m\u001B[38;5;241;43m.\u001B[39;49m\u001B[43m_attach_methods\u001B[49m\u001B[43m(\u001B[49m\u001B[43m)\u001B[49m\n\u001B[0;32m   1723\u001B[0m \u001B[38;5;28;01mif\u001B[39;00m longname \u001B[38;5;129;01mis\u001B[39;00m \u001B[38;5;28;01mNone\u001B[39;00m:\n\u001B[0;32m   1724\u001B[0m     \u001B[38;5;28;01mif\u001B[39;00m name[\u001B[38;5;241m0\u001B[39m] \u001B[38;5;129;01min\u001B[39;00m [\u001B[38;5;124m'\u001B[39m\u001B[38;5;124maeiouAEIOU\u001B[39m\u001B[38;5;124m'\u001B[39m]:\n",
      "File \u001B[1;32m~\\AppData\\Roaming\\Python\\Python38\\site-packages\\scipy\\stats\\_distn_infrastructure.py:1756\u001B[0m, in \u001B[0;36mrv_continuous._attach_methods\u001B[1;34m(self)\u001B[0m\n\u001B[0;32m   1752\u001B[0m \u001B[38;5;124;03m\"\"\"\u001B[39;00m\n\u001B[0;32m   1753\u001B[0m \u001B[38;5;124;03mAttaches dynamically created methods to the rv_continuous instance.\u001B[39;00m\n\u001B[0;32m   1754\u001B[0m \u001B[38;5;124;03m\"\"\"\u001B[39;00m\n\u001B[0;32m   1755\u001B[0m \u001B[38;5;66;03m# _attach_methods is responsible for calling _attach_argparser_methods\u001B[39;00m\n\u001B[1;32m-> 1756\u001B[0m \u001B[38;5;28;43mself\u001B[39;49m\u001B[38;5;241;43m.\u001B[39;49m\u001B[43m_attach_argparser_methods\u001B[49m\u001B[43m(\u001B[49m\u001B[43m)\u001B[49m\n\u001B[0;32m   1758\u001B[0m \u001B[38;5;66;03m# nin correction\u001B[39;00m\n\u001B[0;32m   1759\u001B[0m \u001B[38;5;28mself\u001B[39m\u001B[38;5;241m.\u001B[39m_ppfvec \u001B[38;5;241m=\u001B[39m vectorize(\u001B[38;5;28mself\u001B[39m\u001B[38;5;241m.\u001B[39m_ppf_single, otypes\u001B[38;5;241m=\u001B[39m\u001B[38;5;124m'\u001B[39m\u001B[38;5;124md\u001B[39m\u001B[38;5;124m'\u001B[39m)\n",
      "File \u001B[1;32m~\\AppData\\Roaming\\Python\\Python38\\site-packages\\scipy\\stats\\_distn_infrastructure.py:708\u001B[0m, in \u001B[0;36mrv_generic._attach_argparser_methods\u001B[1;34m(self)\u001B[0m\n\u001B[0;32m    700\u001B[0m \u001B[38;5;124;03m\"\"\"\u001B[39;00m\n\u001B[0;32m    701\u001B[0m \u001B[38;5;124;03mGenerates the argument-parsing functions dynamically and attaches\u001B[39;00m\n\u001B[0;32m    702\u001B[0m \u001B[38;5;124;03mthem to the instance.\u001B[39;00m\n\u001B[1;32m   (...)\u001B[0m\n\u001B[0;32m    705\u001B[0m \u001B[38;5;124;03mduring unpickling (__setstate__)\u001B[39;00m\n\u001B[0;32m    706\u001B[0m \u001B[38;5;124;03m\"\"\"\u001B[39;00m\n\u001B[0;32m    707\u001B[0m ns \u001B[38;5;241m=\u001B[39m {}\n\u001B[1;32m--> 708\u001B[0m \u001B[43mexec\u001B[49m\u001B[43m(\u001B[49m\u001B[38;5;28;43mself\u001B[39;49m\u001B[38;5;241;43m.\u001B[39;49m\u001B[43m_parse_arg_template\u001B[49m\u001B[43m,\u001B[49m\u001B[43m \u001B[49m\u001B[43mns\u001B[49m\u001B[43m)\u001B[49m\n\u001B[0;32m    709\u001B[0m \u001B[38;5;66;03m# NB: attach to the instance, not class\u001B[39;00m\n\u001B[0;32m    710\u001B[0m \u001B[38;5;28;01mfor\u001B[39;00m name \u001B[38;5;129;01min\u001B[39;00m [\u001B[38;5;124m'\u001B[39m\u001B[38;5;124m_parse_args\u001B[39m\u001B[38;5;124m'\u001B[39m, \u001B[38;5;124m'\u001B[39m\u001B[38;5;124m_parse_args_stats\u001B[39m\u001B[38;5;124m'\u001B[39m, \u001B[38;5;124m'\u001B[39m\u001B[38;5;124m_parse_args_rvs\u001B[39m\u001B[38;5;124m'\u001B[39m]:\n",
      "File \u001B[1;32m<string>:2\u001B[0m\n",
      "\u001B[1;31mKeyboardInterrupt\u001B[0m: "
     ]
    }
   ],
   "source": [
    "from Run_model import run_model\n",
    "import numpy as np\n",
    "import pandas as pd\n",
    "from SALib.sample import sobol\n",
    "from SALib.analyze import sobol as sb_analyze\n",
    "df = pd.read_csv('Book1.csv')\n",
    "\n",
    "\n",
    "# Y = []\n",
    "# for i in range(16, 25):\n",
    "#     X = np.array(df.iloc[i, 0:5\n",
    "#     Y.append(run_model(X, 89.415, show_info=True, plot_conc=False))\n",
    "\n",
    "X = np.array(df.iloc[0, 0:5])\n",
    "X = [7, 0.15, 0.07, 2, 0.3]\n",
    "run_model(X, 89.415, show_info=True, plot_conc=False, temp_dep=True)\n"
   ],
   "metadata": {
    "collapsed": false,
    "pycharm": {
     "name": "#%%\n"
    }
   }
  },
  {
   "cell_type": "code",
   "execution_count": 5,
   "outputs": [
    {
     "name": "stdout",
     "output_type": "stream",
     "text": [
      "Run Failed\n"
     ]
    }
   ],
   "source": [
    "import numpy as np\n",
    "import math\n",
    "\n",
    "eqs = [1, 2, np.NaN, 3, 4]\n",
    "\n",
    "\n",
    "\n",
    "for eq in eqs:\n",
    "    if math.isnan(eq):\n",
    "        print('Run Failed')"
   ],
   "metadata": {
    "collapsed": false,
    "pycharm": {
     "name": "#%%\n"
    }
   }
  },
  {
   "cell_type": "code",
   "execution_count": 2,
   "outputs": [
    {
     "name": "stdout",
     "output_type": "stream",
     "text": [
      "[0.0154836560767948, 0.11330657324068898, 0.8712097706825163]\n",
      "61.19326841844249 18.196360595573125\n",
      "1011.6917977743122\n"
     ]
    }
   ],
   "source": [
    "import numpy as np\n",
    "\n",
    "MWs = np.array([44, 61, 18, 28, 32, 62, 105, 61, 17, 19]) # g/mol\n",
    "MW_CO2, MW_MEA, MW_H2O, MW_N2, MW_O2 = MWs[:5]\n",
    "\n",
    "def liquid_density(Tl, w_MEA, alpha):\n",
    "\n",
    "    x_MEA = (1 + alpha + (MW_MEA/MW_H2O)*((1 - w_MEA)/w_MEA))**(-1)\n",
    "    x_CO2 = alpha*x_MEA\n",
    "    x_H2O = 1 - (x_MEA + x_CO2)\n",
    "\n",
    "    x_ls = [x_CO2, x_MEA, x_H2O]\n",
    "\n",
    "    print(x_ls)\n",
    "\n",
    "    MW_l = 0\n",
    "    for i in range(len(x_ls)):\n",
    "        MW_l += x_ls[i] * MWs[i] # g/mol\n",
    "\n",
    "    V_MEA = MW_MEA/(-5.35162e-7*Tl**2 + -4.51417e-4*Tl + 1.19451) # mL/mol\n",
    "    V_H2O = MW_H2O/(-(3.2484e-6)*Tl**2 + .00165*Tl + .793) # mL/mol\n",
    "\n",
    "    print(V_MEA, V_H2O)\n",
    "\n",
    "    def f_V_l(x_CO2, x_MEA, x_H2O):\n",
    "        a, b, c, d, e = 10.2074, -2.2642, 3.0059, 207, -563.3701\n",
    "        V_l = x_MEA*V_MEA + x_H2O*V_H2O + a*x_CO2 + (b + c*x_MEA)*x_MEA*x_H2O + (d + e*x_MEA)*x_MEA*x_CO2\n",
    "        return V_l\n",
    "\n",
    "    V_l = f_V_l(x_CO2, x_MEA, x_H2O) # # mL/mol\n",
    "\n",
    "    rho_l = MW_l/V_l # g/cm3\n",
    "\n",
    "    return rho_l\n",
    "\n",
    "Tl = 318\n",
    "w_MEA, alpha = 0.3059157745679671, 0.13665276103535481\n",
    "\n",
    "print(liquid_density(Tl, w_MEA, alpha)*1000)"
   ],
   "metadata": {
    "collapsed": false,
    "pycharm": {
     "name": "#%%\n"
    }
   }
  },
  {
   "cell_type": "code",
   "execution_count": 31,
   "outputs": [
    {
     "name": "stdout",
     "output_type": "stream",
     "text": [
      "20.0\n",
      "(1.6903671107322364, 0.8903336949313403)\n"
     ]
    }
   ],
   "source": [
    "def liq_viscosity(Tl, w_MEA, alpha):\n",
    "\n",
    "    W_MEA = w_MEA*100\n",
    "\n",
    "    mul_H2O = 1.002 * 10 ** ((1.3272*(293.15 - Tl - .001053 * (Tl - 293.15) ** 2))/(Tl - 168.15))\n",
    "\n",
    "    a = -.0838\n",
    "    b = 2.8817\n",
    "    c = 33.651\n",
    "    d = 1817\n",
    "    e = .00847\n",
    "    f = .0103\n",
    "    g = -2.3890\n",
    "    left = ((a*W_MEA +b)*Tl + c*W_MEA + d)\n",
    "    right = (alpha*e*w_MEA*W_MEA + alpha*f*Tl*W_MEA + alpha*g*W_MEA + 1*W_MEA)\n",
    "\n",
    "    print(right)\n",
    "    deviation = np.exp((left*right) /(Tl**2))\n",
    "    mul_mix_2 = mul_H2O * deviation\n",
    "\n",
    "    mul_mix_2 = mul_mix_2\n",
    "    mul_H2O = mul_H2O\n",
    "\n",
    "    return mul_mix_2, mul_H2O\n",
    "\n",
    "Tl, w_MEA, alpha = 298.15, .20, 0\n",
    "\n",
    "print(liq_viscosity(Tl, w_MEA, alpha))"
   ],
   "metadata": {
    "collapsed": false,
    "pycharm": {
     "name": "#%%\n"
    }
   }
  },
  {
   "cell_type": "code",
   "execution_count": null,
   "outputs": [],
   "source": [],
   "metadata": {
    "collapsed": false,
    "pycharm": {
     "name": "#%%\n"
    }
   }
  }
 ],
 "metadata": {
  "kernelspec": {
   "display_name": "Python 3 (ipykernel)",
   "language": "python",
   "name": "python3"
  },
  "language_info": {
   "codemirror_mode": {
    "name": "ipython",
    "version": 3
   },
   "file_extension": ".py",
   "mimetype": "text/x-python",
   "name": "python",
   "nbconvert_exporter": "python",
   "pygments_lexer": "ipython3",
   "version": "3.8.16"
  }
 },
 "nbformat": 4,
 "nbformat_minor": 5
}